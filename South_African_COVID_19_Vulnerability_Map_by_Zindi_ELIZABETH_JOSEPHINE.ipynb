{
  "nbformat": 4,
  "nbformat_minor": 0,
  "metadata": {
    "colab": {
      "name": "South African COVID-19 Vulnerability Map by Zindi",
      "provenance": [],
      "collapsed_sections": [
        "xHjoSYeajoak"
      ],
      "authorship_tag": "ABX9TyNp85zx5li0RHcdc+NnHF22",
      "include_colab_link": true
    },
    "kernelspec": {
      "name": "python3",
      "display_name": "Python 3"
    }
  },
  "cells": [
    {
      "cell_type": "markdown",
      "metadata": {
        "id": "view-in-github",
        "colab_type": "text"
      },
      "source": [
        "<a href=\"https://colab.research.google.com/github/alfafimel/IPWK10-CORE-ZINDI-COVID-HACKATHON/blob/main/South_African_COVID_19_Vulnerability_Map_by_Zindi_ELIZABETH_JOSEPHINE.ipynb\" target=\"_parent\"><img src=\"https://colab.research.google.com/assets/colab-badge.svg\" alt=\"Open In Colab\"/></a>"
      ]
    },
    {
      "cell_type": "markdown",
      "metadata": {
        "id": "xHjoSYeajoak"
      },
      "source": [
        "### **QUESTION: PROBLEM**"
      ]
    },
    {
      "cell_type": "markdown",
      "metadata": {
        "id": "0Z4CDmCgaXlP"
      },
      "source": [
        "Can we infer important COVID-19 public health risk factors from outdated data? In many countries census and other survey data may be incomplete or out of date. This challenge is to develop a proof-of-concept for how machine learning can help governments more accurately map COVID-19 risk in 2020 using old data, without requiring a new costly, risky, and time-consuming on-the-ground survey.\n",
        "\n",
        "The 2011 census gives us valuable information for determining who might be most vulnerable to COVID-19 in South Africa. However, the data is nearly 10 years old, and we expect that some key indicators will have changed in that time. Building an up-to-date map showing where the most vulnerable are located will be a key step in responding to the disease. A mapping effort like this requires bringing together many different inputs and tools. For this competition, we’re starting small. Can we infer important risk factors from more readily available data?\n",
        "\n",
        "The task is to predict the percentage of households that fall into a particularly vulnerable bracket - large households who must leave their homes to fetch water - using 2011 South African census data. Solving this challenge will show that with machine learning it is possible to use easy-to-measure stats to identify areas most at risk even in years when census data is not collected."
      ]
    },
    {
      "cell_type": "markdown",
      "metadata": {
        "id": "EmjqG6KeaI0R"
      },
      "source": [
        "## **DATA ANALYSIS**"
      ]
    },
    {
      "cell_type": "code",
      "metadata": {
        "id": "SQZ7tDAGP_Nz"
      },
      "source": [
        "# importing the necesary libraries\n",
        "import pandas as pd\n",
        "import numpy as np\n",
        "import seaborn as sns\n",
        "import matplotlib.pyplot as plt\n",
        "import warnings\n",
        "warnings.filterwarnings('ignore')"
      ],
      "execution_count": 1,
      "outputs": []
    },
    {
      "cell_type": "code",
      "metadata": {
        "id": "mfnR07s6X0G3"
      },
      "source": [
        "# reading in the data\n",
        "# training dataset\n",
        "train = pd.read_csv('Train_maskedv2.csv')\n",
        "# test dataset\n",
        "test = pd.read_csv('Test_maskedv2.csv')"
      ],
      "execution_count": 2,
      "outputs": []
    },
    {
      "cell_type": "code",
      "metadata": {
        "id": "kbQnBQYWf0nP",
        "outputId": "bccc4819-80cf-4898-8d2f-5e9e83eef946",
        "colab": {
          "base_uri": "https://localhost:8080/",
          "height": 34
        }
      },
      "source": [
        "# previewing the shape of the datasets\n",
        "train.shape, test.shape\n",
        "\n",
        "# the train dataset has 3174 rows and 50 columns while\n",
        "# the test dataset has 1102 rows and 49 columns"
      ],
      "execution_count": 3,
      "outputs": [
        {
          "output_type": "execute_result",
          "data": {
            "text/plain": [
              "((3174, 50), (1102, 49))"
            ]
          },
          "metadata": {
            "tags": []
          },
          "execution_count": 3
        }
      ]
    },
    {
      "cell_type": "code",
      "metadata": {
        "id": "5DK8d-1wgSRf",
        "outputId": "80757a7f-df70-4cad-dcec-3cbb71614747",
        "colab": {
          "base_uri": "https://localhost:8080/",
          "height": 340
        }
      },
      "source": [
        "# previewing the a sample of the datasets\n",
        "print(train.sample(6))\n",
        "print('**********************************')\n",
        "print(test.sample(6))"
      ],
      "execution_count": 4,
      "outputs": [
        {
          "output_type": "stream",
          "text": [
            "         ward  total_households  ...     pg_04    lgt_00\n",
            "2580  R8WD9H5        3294.89919  ...  0.002373  0.927243\n",
            "2469  B0DMWCB        1421.23288  ...  0.002362  0.319931\n",
            "528   VK46ZKR        2274.85910  ...  0.008841  0.835105\n",
            "2079  OHWI5DC        1841.05616  ...  0.005634  0.862503\n",
            "1944  6RFVC71         518.57566  ...  0.009031  0.459686\n",
            "2693  6OFQ3ZA        2455.04380  ...  0.001092  0.956165\n",
            "\n",
            "[6 rows x 50 columns]\n",
            "**********************************\n",
            "        ward  total_households  total_individuals  ...     pg_03     pg_04    lgt_00\n",
            "855  RS6CKPN        9022.35767        28116.89638  ...  0.427909  0.027690  0.994626\n",
            "732  NYODCCH        1194.78307         7083.79440  ...  0.192877  0.012511  0.980773\n",
            "996  W9YLEKZ        1489.27839         4916.67090  ...  0.000000  0.006176  0.956691\n",
            "61   24WYRNI        1374.50664         9378.05541  ...  0.000845  0.000378  0.002970\n",
            "212  6XO9WKJ        2109.66431         6317.49552  ...  0.078023  0.003916  0.952388\n",
            "987  VYWR87L        3216.10822         9859.40934  ...  0.000753  0.001673  0.943326\n",
            "\n",
            "[6 rows x 49 columns]\n"
          ],
          "name": "stdout"
        }
      ]
    },
    {
      "cell_type": "code",
      "metadata": {
        "id": "vCxFLisripMd"
      },
      "source": [
        "# combining the training and test datasets for easier feature engneering\n",
        "df = pd.concat([train, test])"
      ],
      "execution_count": 5,
      "outputs": []
    },
    {
      "cell_type": "code",
      "metadata": {
        "id": "er8i9V7UgsU2",
        "outputId": "e5d7365b-08de-4968-e8ea-80b2e7dfe865",
        "colab": {
          "base_uri": "https://localhost:8080/",
          "height": 323
        }
      },
      "source": [
        "# previweing the combined dataset\n",
        "print(df.shape)\n",
        "print('**********************************')\n",
        "print(df.head(3))\n",
        "print('**********************************')\n",
        "print(df.columns)"
      ],
      "execution_count": 6,
      "outputs": [
        {
          "output_type": "stream",
          "text": [
            "(4276, 50)\n",
            "**********************************\n",
            "      ward  total_households  total_individuals  ...     pg_03     pg_04    lgt_00\n",
            "0  9D9BEUB       13569.97801        39024.03083  ...  0.029031  0.010292  0.599259\n",
            "1  RERH3XM       13593.88256        32879.94646  ...  0.000586  0.002832  0.699136\n",
            "2  GJWA3BO        2698.30050         8261.71093  ...  0.003201  0.000663  0.972315\n",
            "\n",
            "[3 rows x 50 columns]\n",
            "**********************************\n",
            "Index(['ward', 'total_households', 'total_individuals', 'target_pct_vunerable',\n",
            "       'dw_00', 'dw_01', 'dw_02', 'dw_03', 'dw_04', 'dw_05', 'dw_06', 'dw_07',\n",
            "       'dw_08', 'dw_09', 'dw_10', 'dw_11', 'dw_12', 'dw_13', 'psa_00',\n",
            "       'psa_01', 'psa_02', 'psa_03', 'psa_04', 'stv_00', 'stv_01', 'car_00',\n",
            "       'car_01', 'lln_00', 'lln_01', 'lan_00', 'lan_01', 'lan_02', 'lan_03',\n",
            "       'lan_04', 'lan_05', 'lan_06', 'lan_07', 'lan_08', 'lan_09', 'lan_10',\n",
            "       'lan_11', 'lan_12', 'lan_13', 'lan_14', 'pg_00', 'pg_01', 'pg_02',\n",
            "       'pg_03', 'pg_04', 'lgt_00'],\n",
            "      dtype='object')\n"
          ],
          "name": "stdout"
        }
      ]
    },
    {
      "cell_type": "code",
      "metadata": {
        "id": "rS5xZKg3zfjM",
        "outputId": "468a2335-7269-4c92-a9cb-dce844a049a5",
        "colab": {
          "base_uri": "https://localhost:8080/",
          "height": 51
        }
      },
      "source": [
        "print(\"old size: %d\" % len(train))\n",
        "train = train.dropna(how='any', axis=0)\n",
        "print(\"New size after dropping missing value: %d\" % len(train))"
      ],
      "execution_count": 7,
      "outputs": [
        {
          "output_type": "stream",
          "text": [
            "old size: 3174\n",
            "New size after dropping missing value: 3174\n"
          ],
          "name": "stdout"
        }
      ]
    },
    {
      "cell_type": "code",
      "metadata": {
        "id": "inzMVeqRzg1t",
        "outputId": "1b220479-6f01-4369-8b57-c8a9341e92c0",
        "colab": {
          "base_uri": "https://localhost:8080/",
          "height": 34
        }
      },
      "source": [
        "import gc\n",
        "# removing missing data \n",
        "missing_perc_thresh = 0.98\n",
        "exclude_missing = []\n",
        "num_rows = df.shape[0]\n",
        "for c in df.columns:\n",
        "    num_missing = df[c].isnull().sum()\n",
        "    if num_missing == 0:\n",
        "        continue\n",
        "    missing_frac = num_missing / float(num_rows)\n",
        "    if missing_frac > missing_perc_thresh:\n",
        "        exclude_missing.append(c)\n",
        "print(\"We exclude: %s\" % len(exclude_missing))\n",
        "#\n",
        "# dealing with missing values\n",
        "del num_rows, missing_perc_thresh\n",
        "gc.collect();"
      ],
      "execution_count": 8,
      "outputs": [
        {
          "output_type": "stream",
          "text": [
            "We exclude: 0\n"
          ],
          "name": "stdout"
        }
      ]
    },
    {
      "cell_type": "code",
      "metadata": {
        "id": "BrI6jHf3ox22"
      },
      "source": [
        "## FEATURE ENGINEERING\n",
        "\n",
        "# dropping the columns whose values are unspecified we have:\n",
        "df.drop(columns=['dw_12', 'psa_03', 'lan_13', 'lan_14'], inplace=True)\n",
        "#\n",
        "# the average number of individuals in a household\n",
        "df['household_size'] = df['total_individuals'] / df['total_households']\n",
        "#\n",
        "# grouping individuals with no school attendance\n",
        "df['negativeschoolattendance'] = df['psa_01'] + df['psa_02']\n",
        "#\n",
        "##\n",
        "from sklearn.cluster import KMeans\n",
        "cols=df.drop([\"target_pct_vunerable\",\"ward\"],1).columns\n",
        "\n",
        "df_km=df[cols].copy()\n",
        "\n",
        "df_km[\"total_households\"]/=df_km[\"total_households\"].max()\n",
        "\n",
        "km=KMeans(20,random_state=49)\n",
        "df[\"cluster\"]=km.fit_predict(df_km[cols])"
      ],
      "execution_count": 9,
      "outputs": []
    },
    {
      "cell_type": "markdown",
      "metadata": {
        "id": "qFzziXCkAbIJ"
      },
      "source": [
        "### **Build model**"
      ]
    },
    {
      "cell_type": "code",
      "metadata": {
        "id": "myfFzVmwCfdV",
        "outputId": "3746bfad-9e30-4a88-d2c4-4f3bb10f88d9",
        "colab": {
          "base_uri": "https://localhost:8080/",
          "height": 34
        }
      },
      "source": [
        "# declaring feature vector and target variables\n",
        "# target = train\n",
        "#df = df.drop([\"ward\"], axis=1)\n",
        "l_train = len(train)\n",
        "train = df[:l_train]\n",
        "test = df[l_train:]\n",
        "#\n",
        "#\n",
        "_id = test['ward']\n",
        "test.drop(columns=['target_pct_vunerable','ward'], inplace=True)\n",
        "train.drop(columns=['ward'], inplace=True)\n",
        "#\n",
        "X = train.drop(['target_pct_vunerable'], axis=1)\n",
        "y = train['target_pct_vunerable']\n",
        "#\n",
        "categorical_features_indices = np.where(X.dtypes != np.float)[0]; categorical_features_indices"
      ],
      "execution_count": 11,
      "outputs": [
        {
          "output_type": "execute_result",
          "data": {
            "text/plain": [
              "array([14, 46])"
            ]
          },
          "metadata": {
            "tags": []
          },
          "execution_count": 11
        }
      ]
    },
    {
      "cell_type": "code",
      "metadata": {
        "id": "sNo14ZUYUfPz",
        "outputId": "4fe57d12-bf33-460c-b26b-9b90576a26f0",
        "colab": {
          "base_uri": "https://localhost:8080/",
          "height": 513
        }
      },
      "source": [
        "# Installing required libraries\n",
        "!pip install catboost\n",
        "!pip install rgf-python"
      ],
      "execution_count": 13,
      "outputs": [
        {
          "output_type": "stream",
          "text": [
            "Collecting catboost\n",
            "\u001b[?25l  Downloading https://files.pythonhosted.org/packages/52/39/128fff65072c8327371e3c594f3c826d29c85b21cb6485980353b168e0e4/catboost-0.24.2-cp36-none-manylinux1_x86_64.whl (66.1MB)\n",
            "\u001b[K     |████████████████████████████████| 66.2MB 53kB/s \n",
            "\u001b[?25hRequirement already satisfied: six in /usr/local/lib/python3.6/dist-packages (from catboost) (1.15.0)\n",
            "Requirement already satisfied: pandas>=0.24.0 in /usr/local/lib/python3.6/dist-packages (from catboost) (1.1.2)\n",
            "Requirement already satisfied: plotly in /usr/local/lib/python3.6/dist-packages (from catboost) (4.4.1)\n",
            "Requirement already satisfied: scipy in /usr/local/lib/python3.6/dist-packages (from catboost) (1.4.1)\n",
            "Requirement already satisfied: matplotlib in /usr/local/lib/python3.6/dist-packages (from catboost) (3.2.2)\n",
            "Requirement already satisfied: numpy>=1.16.0 in /usr/local/lib/python3.6/dist-packages (from catboost) (1.18.5)\n",
            "Requirement already satisfied: graphviz in /usr/local/lib/python3.6/dist-packages (from catboost) (0.10.1)\n",
            "Requirement already satisfied: pytz>=2017.2 in /usr/local/lib/python3.6/dist-packages (from pandas>=0.24.0->catboost) (2018.9)\n",
            "Requirement already satisfied: python-dateutil>=2.7.3 in /usr/local/lib/python3.6/dist-packages (from pandas>=0.24.0->catboost) (2.8.1)\n",
            "Requirement already satisfied: retrying>=1.3.3 in /usr/local/lib/python3.6/dist-packages (from plotly->catboost) (1.3.3)\n",
            "Requirement already satisfied: cycler>=0.10 in /usr/local/lib/python3.6/dist-packages (from matplotlib->catboost) (0.10.0)\n",
            "Requirement already satisfied: kiwisolver>=1.0.1 in /usr/local/lib/python3.6/dist-packages (from matplotlib->catboost) (1.2.0)\n",
            "Requirement already satisfied: pyparsing!=2.0.4,!=2.1.2,!=2.1.6,>=2.0.1 in /usr/local/lib/python3.6/dist-packages (from matplotlib->catboost) (2.4.7)\n",
            "Installing collected packages: catboost\n",
            "Successfully installed catboost-0.24.2\n",
            "Collecting rgf-python\n",
            "\u001b[?25l  Downloading https://files.pythonhosted.org/packages/7d/b5/9ba527ce20a1a5a6c279318be856aa4996e0d1b59035d466173198ffd468/rgf_python-3.9.0-py2.py3-none-manylinux1_x86_64.whl (757kB)\n",
            "\u001b[K     |████████████████████████████████| 768kB 2.7MB/s \n",
            "\u001b[?25hRequirement already satisfied: six in /usr/local/lib/python3.6/dist-packages (from rgf-python) (1.15.0)\n",
            "Requirement already satisfied: joblib in /usr/local/lib/python3.6/dist-packages (from rgf-python) (0.16.0)\n",
            "Requirement already satisfied: scikit-learn>=0.18 in /usr/local/lib/python3.6/dist-packages (from rgf-python) (0.22.2.post1)\n",
            "Requirement already satisfied: scipy>=0.17.0 in /usr/local/lib/python3.6/dist-packages (from scikit-learn>=0.18->rgf-python) (1.4.1)\n",
            "Requirement already satisfied: numpy>=1.11.0 in /usr/local/lib/python3.6/dist-packages (from scikit-learn>=0.18->rgf-python) (1.18.5)\n",
            "Installing collected packages: rgf-python\n",
            "Successfully installed rgf-python-3.9.0\n"
          ],
          "name": "stdout"
        }
      ]
    },
    {
      "cell_type": "code",
      "metadata": {
        "id": "_3BKSstSQWxK",
        "outputId": "6c2a3c08-7ae8-427b-adb0-8914618f5766",
        "colab": {
          "base_uri": "https://localhost:8080/",
          "height": 1000
        }
      },
      "source": [
        "from catboost import CatBoostRegressor\n",
        "from sklearn.metrics import mean_squared_error\n",
        "from sklearn.model_selection import KFold,StratifiedKFold, TimeSeriesSplit\n",
        "\n",
        "testsplit_store=[]\n",
        "test_store=[]\n",
        "fold=KFold(n_splits=15, shuffle=True, random_state=123456)\n",
        "i=1\n",
        "for train_index, test_index in fold.split(X,y):\n",
        "    X_train, X_test = X.iloc[train_index], X.iloc[test_index]\n",
        "    y_train, y_test = y.iloc[train_index], y.iloc[test_index]\n",
        "    cat = CatBoostRegressor(n_estimators=10000,eval_metric='RMSE', learning_rate=0.0801032, random_seed= 123456, l2_leaf_reg=4, use_best_model=True)\n",
        "    cat.fit(X_train,y_train,eval_set=[(X_train,y_train),(X_test, y_test)], early_stopping_rounds=300,verbose=100, cat_features=categorical_features_indices)\n",
        "    predict = cat.predict(X_test)\n",
        "    print(\"err: \",np.sqrt(mean_squared_error(y_test,predict)))\n",
        "    testsplit_store.append(np.sqrt(mean_squared_error(y_test,predict)))\n",
        "    pred = cat.predict(test)\n",
        "    test_store.append(pred)\n"
      ],
      "execution_count": 14,
      "outputs": [
        {
          "output_type": "stream",
          "text": [
            "0:\tlearn: 12.1384567\ttest: 12.1384567\ttest1: 13.0356250\tbest: 13.0356250 (0)\ttotal: 68.1ms\tremaining: 11m 21s\n",
            "100:\tlearn: 4.8736797\ttest: 4.8736797\ttest1: 5.1860612\tbest: 5.1850419 (99)\ttotal: 1.88s\tremaining: 3m 4s\n",
            "200:\tlearn: 3.6749530\ttest: 3.6749530\ttest1: 5.0040193\tbest: 4.9927432 (197)\ttotal: 3.72s\tremaining: 3m 1s\n",
            "300:\tlearn: 2.8920581\ttest: 2.9012199\ttest1: 4.9102574\tbest: 4.9006805 (290)\ttotal: 5.54s\tremaining: 2m 58s\n",
            "400:\tlearn: 2.3643745\ttest: 2.3767904\ttest1: 4.8626683\tbest: 4.8567107 (392)\ttotal: 7.36s\tremaining: 2m 56s\n",
            "500:\tlearn: 1.9488156\ttest: 1.9633063\ttest1: 4.8590414\tbest: 4.8552519 (488)\ttotal: 9.2s\tremaining: 2m 54s\n",
            "600:\tlearn: 1.6440419\ttest: 1.6603104\ttest1: 4.8532745\tbest: 4.8531693 (592)\ttotal: 11s\tremaining: 2m 52s\n",
            "700:\tlearn: 1.4164740\ttest: 1.4334710\ttest1: 4.8185048\tbest: 4.8158127 (695)\ttotal: 12.8s\tremaining: 2m 50s\n",
            "800:\tlearn: 1.2126203\ttest: 1.2302567\ttest1: 4.8157228\tbest: 4.8044600 (765)\ttotal: 14.6s\tremaining: 2m 48s\n",
            "900:\tlearn: 1.0552629\ttest: 1.0734378\ttest1: 4.8208542\tbest: 4.8044600 (765)\ttotal: 16.5s\tremaining: 2m 46s\n",
            "1000:\tlearn: 0.9109066\ttest: 0.9289511\ttest1: 4.8203102\tbest: 4.8044600 (765)\ttotal: 18.3s\tremaining: 2m 44s\n",
            "Stopped by overfitting detector  (300 iterations wait)\n",
            "\n",
            "bestTest = 4.804459998\n",
            "bestIteration = 765\n",
            "\n",
            "Shrink model to first 766 iterations.\n",
            "err:  4.804460035373335\n",
            "0:\tlearn: 12.2704680\ttest: 12.2704680\ttest1: 11.3083996\tbest: 11.3083996 (0)\ttotal: 18.5ms\tremaining: 3m 4s\n",
            "100:\tlearn: 4.9144739\ttest: 4.9242752\ttest1: 5.7039101\tbest: 5.6967261 (87)\ttotal: 1.84s\tremaining: 3m\n",
            "200:\tlearn: 3.7153908\ttest: 3.7257711\ttest1: 5.5660705\tbest: 5.5632681 (199)\ttotal: 3.66s\tremaining: 2m 58s\n",
            "300:\tlearn: 2.9451120\ttest: 2.9579838\ttest1: 5.5353911\tbest: 5.5329146 (297)\ttotal: 5.5s\tremaining: 2m 57s\n",
            "400:\tlearn: 2.3872349\ttest: 2.4004462\ttest1: 5.4739754\tbest: 5.4699553 (345)\ttotal: 7.35s\tremaining: 2m 56s\n",
            "500:\tlearn: 1.9874514\ttest: 2.0024559\ttest1: 5.4484528\tbest: 5.4465630 (486)\ttotal: 9.2s\tremaining: 2m 54s\n",
            "600:\tlearn: 1.6850683\ttest: 1.7022387\ttest1: 5.4478372\tbest: 5.4366234 (576)\ttotal: 11s\tremaining: 2m 52s\n",
            "700:\tlearn: 1.4394457\ttest: 1.4580122\ttest1: 5.4045407\tbest: 5.4038232 (692)\ttotal: 12.8s\tremaining: 2m 50s\n",
            "800:\tlearn: 1.2375122\ttest: 1.2573539\ttest1: 5.3983864\tbest: 5.3951825 (730)\ttotal: 14.7s\tremaining: 2m 48s\n",
            "900:\tlearn: 1.0688498\ttest: 1.0906160\ttest1: 5.3919096\tbest: 5.3903533 (897)\ttotal: 16.5s\tremaining: 2m 46s\n",
            "1000:\tlearn: 0.9288296\ttest: 0.9532628\ttest1: 5.3965770\tbest: 5.3903533 (897)\ttotal: 18.4s\tremaining: 2m 45s\n",
            "1100:\tlearn: 0.8151607\ttest: 0.8410518\ttest1: 5.3813322\tbest: 5.3813322 (1100)\ttotal: 20.3s\tremaining: 2m 43s\n",
            "1200:\tlearn: 0.7152934\ttest: 0.7428775\ttest1: 5.3793583\tbest: 5.3787629 (1191)\ttotal: 22.1s\tremaining: 2m 41s\n",
            "1300:\tlearn: 0.6222142\ttest: 0.6521738\ttest1: 5.3799898\tbest: 5.3778893 (1296)\ttotal: 24s\tremaining: 2m 40s\n",
            "1400:\tlearn: 0.5441163\ttest: 0.5765782\ttest1: 5.3844301\tbest: 5.3778893 (1296)\ttotal: 25.8s\tremaining: 2m 38s\n",
            "1500:\tlearn: 0.4811526\ttest: 0.5164796\ttest1: 5.3856123\tbest: 5.3778893 (1296)\ttotal: 27.6s\tremaining: 2m 36s\n",
            "Stopped by overfitting detector  (300 iterations wait)\n",
            "\n",
            "bestTest = 5.377889338\n",
            "bestIteration = 1296\n",
            "\n",
            "Shrink model to first 1297 iterations.\n",
            "err:  5.377889316675846\n",
            "0:\tlearn: 12.2140272\ttest: 12.2140272\ttest1: 11.9464865\tbest: 11.9464865 (0)\ttotal: 18.5ms\tremaining: 3m 4s\n",
            "100:\tlearn: 4.8858722\ttest: 4.8852230\ttest1: 5.8826881\tbest: 5.8826881 (100)\ttotal: 1.88s\tremaining: 3m 3s\n",
            "200:\tlearn: 3.6985387\ttest: 3.7020838\ttest1: 5.6571295\tbest: 5.6429332 (190)\ttotal: 3.69s\tremaining: 3m\n",
            "300:\tlearn: 2.9660132\ttest: 2.9734540\ttest1: 5.5999163\tbest: 5.5917203 (278)\ttotal: 5.52s\tremaining: 2m 57s\n",
            "400:\tlearn: 2.4211727\ttest: 2.4330890\ttest1: 5.4932378\tbest: 5.4932378 (400)\ttotal: 7.34s\tremaining: 2m 55s\n",
            "500:\tlearn: 2.0211001\ttest: 2.0368005\ttest1: 5.4752697\tbest: 5.4621735 (472)\ttotal: 9.17s\tremaining: 2m 53s\n",
            "600:\tlearn: 1.6962552\ttest: 1.7147421\ttest1: 5.4562020\tbest: 5.4502198 (588)\ttotal: 11s\tremaining: 2m 52s\n",
            "700:\tlearn: 1.4442847\ttest: 1.4637374\ttest1: 5.4266452\tbest: 5.4265539 (692)\ttotal: 12.9s\tremaining: 2m 50s\n",
            "800:\tlearn: 1.2378614\ttest: 1.2607722\ttest1: 5.4206530\tbest: 5.4206530 (800)\ttotal: 14.7s\tremaining: 2m 48s\n",
            "900:\tlearn: 1.0755202\ttest: 1.1002901\ttest1: 5.4034825\tbest: 5.4028697 (898)\ttotal: 16.5s\tremaining: 2m 46s\n",
            "1000:\tlearn: 0.9355473\ttest: 0.9618658\ttest1: 5.4077950\tbest: 5.4022154 (925)\ttotal: 18.4s\tremaining: 2m 45s\n",
            "1100:\tlearn: 0.8168709\ttest: 0.8451672\ttest1: 5.4016764\tbest: 5.3966658 (1050)\ttotal: 20.2s\tremaining: 2m 43s\n",
            "1200:\tlearn: 0.7234927\ttest: 0.7530149\ttest1: 5.3969357\tbest: 5.3961420 (1195)\ttotal: 22s\tremaining: 2m 41s\n",
            "1300:\tlearn: 0.6375585\ttest: 0.6683044\ttest1: 5.3897571\tbest: 5.3897571 (1300)\ttotal: 23.9s\tremaining: 2m 39s\n",
            "1400:\tlearn: 0.5616261\ttest: 0.5947970\ttest1: 5.3764662\tbest: 5.3761400 (1397)\ttotal: 25.7s\tremaining: 2m 37s\n",
            "1500:\tlearn: 0.4958285\ttest: 0.5314508\ttest1: 5.3699287\tbest: 5.3699287 (1500)\ttotal: 27.6s\tremaining: 2m 36s\n",
            "1600:\tlearn: 0.4424054\ttest: 0.4795076\ttest1: 5.3657145\tbest: 5.3654076 (1595)\ttotal: 29.4s\tremaining: 2m 34s\n",
            "1700:\tlearn: 0.3955693\ttest: 0.4341721\ttest1: 5.3649134\tbest: 5.3630085 (1650)\ttotal: 31.2s\tremaining: 2m 32s\n",
            "1800:\tlearn: 0.3540031\ttest: 0.3944899\ttest1: 5.3624174\tbest: 5.3621541 (1784)\ttotal: 33s\tremaining: 2m 30s\n",
            "1900:\tlearn: 0.3188761\ttest: 0.3614314\ttest1: 5.3591464\tbest: 5.3591464 (1900)\ttotal: 34.9s\tremaining: 2m 28s\n",
            "2000:\tlearn: 0.2859802\ttest: 0.3305359\ttest1: 5.3611874\tbest: 5.3588164 (1926)\ttotal: 36.7s\tremaining: 2m 26s\n",
            "2100:\tlearn: 0.2575401\ttest: 0.3041210\ttest1: 5.3591489\tbest: 5.3585631 (2087)\ttotal: 38.5s\tremaining: 2m 24s\n",
            "2200:\tlearn: 0.2301268\ttest: 0.2790793\ttest1: 5.3581747\tbest: 5.3573277 (2186)\ttotal: 40.4s\tremaining: 2m 23s\n",
            "2300:\tlearn: 0.2048796\ttest: 0.2562771\ttest1: 5.3573411\tbest: 5.3573277 (2186)\ttotal: 42.3s\tremaining: 2m 21s\n",
            "2400:\tlearn: 0.1860357\ttest: 0.2403113\ttest1: 5.3571699\tbest: 5.3570119 (2329)\ttotal: 44.1s\tremaining: 2m 19s\n",
            "2500:\tlearn: 0.1686713\ttest: 0.2258045\ttest1: 5.3557720\tbest: 5.3557720 (2500)\ttotal: 45.9s\tremaining: 2m 17s\n",
            "2600:\tlearn: 0.1523310\ttest: 0.2123676\ttest1: 5.3560866\tbest: 5.3551998 (2509)\ttotal: 47.8s\tremaining: 2m 15s\n",
            "2700:\tlearn: 0.1381819\ttest: 0.2011386\ttest1: 5.3561384\tbest: 5.3551998 (2509)\ttotal: 49.6s\tremaining: 2m 14s\n",
            "2800:\tlearn: 0.1261617\ttest: 0.1920110\ttest1: 5.3561629\tbest: 5.3551998 (2509)\ttotal: 51.5s\tremaining: 2m 12s\n",
            "Stopped by overfitting detector  (300 iterations wait)\n",
            "\n",
            "bestTest = 5.355199783\n",
            "bestIteration = 2509\n",
            "\n",
            "Shrink model to first 2510 iterations.\n",
            "err:  5.355199819711612\n",
            "0:\tlearn: 12.2153215\ttest: 12.2153215\ttest1: 12.0369027\tbest: 12.0369027 (0)\ttotal: 18.5ms\tremaining: 3m 4s\n",
            "100:\tlearn: 4.8446824\ttest: 4.8479739\ttest1: 6.2007586\tbest: 6.1988160 (99)\ttotal: 1.86s\tremaining: 3m 2s\n",
            "200:\tlearn: 3.6838766\ttest: 3.6899563\ttest1: 5.9157925\tbest: 5.9018941 (194)\ttotal: 3.66s\tremaining: 2m 58s\n",
            "300:\tlearn: 2.9531630\ttest: 2.9603067\ttest1: 5.8072238\tbest: 5.8040718 (299)\ttotal: 5.47s\tremaining: 2m 56s\n",
            "400:\tlearn: 2.4426845\ttest: 2.4505313\ttest1: 5.7829588\tbest: 5.7757957 (385)\ttotal: 7.33s\tremaining: 2m 55s\n",
            "500:\tlearn: 2.0290299\ttest: 2.0379891\ttest1: 5.7546859\tbest: 5.7546859 (500)\ttotal: 9.16s\tremaining: 2m 53s\n",
            "600:\tlearn: 1.7114856\ttest: 1.7202274\ttest1: 5.7686062\tbest: 5.7546859 (500)\ttotal: 11s\tremaining: 2m 51s\n",
            "700:\tlearn: 1.4531487\ttest: 1.4627664\ttest1: 5.7872281\tbest: 5.7546859 (500)\ttotal: 12.8s\tremaining: 2m 49s\n",
            "800:\tlearn: 1.2253223\ttest: 1.2356903\ttest1: 5.7818478\tbest: 5.7546859 (500)\ttotal: 14.6s\tremaining: 2m 47s\n",
            "Stopped by overfitting detector  (300 iterations wait)\n",
            "\n",
            "bestTest = 5.754685915\n",
            "bestIteration = 500\n",
            "\n",
            "Shrink model to first 501 iterations.\n",
            "err:  5.7546859169927895\n",
            "0:\tlearn: 12.1072038\ttest: 12.1072038\ttest1: 13.3871275\tbest: 13.3871275 (0)\ttotal: 18.6ms\tremaining: 3m 5s\n",
            "100:\tlearn: 4.8550091\ttest: 4.8583366\ttest1: 6.3566601\tbest: 6.3495782 (98)\ttotal: 1.89s\tremaining: 3m 4s\n",
            "200:\tlearn: 3.6526828\ttest: 3.6607790\ttest1: 6.1034592\tbest: 6.1017036 (198)\ttotal: 3.7s\tremaining: 3m\n",
            "300:\tlearn: 2.9008177\ttest: 2.9120265\ttest1: 5.9716318\tbest: 5.9707798 (299)\ttotal: 5.53s\tremaining: 2m 58s\n",
            "400:\tlearn: 2.3658480\ttest: 2.3848455\ttest1: 5.9642498\tbest: 5.9561571 (385)\ttotal: 7.37s\tremaining: 2m 56s\n",
            "500:\tlearn: 1.9775381\ttest: 1.9974070\ttest1: 5.9398716\tbest: 5.9386995 (490)\ttotal: 9.19s\tremaining: 2m 54s\n",
            "600:\tlearn: 1.6855209\ttest: 1.7077536\ttest1: 5.9273768\tbest: 5.9259535 (581)\ttotal: 11s\tremaining: 2m 52s\n",
            "700:\tlearn: 1.4336230\ttest: 1.4594034\ttest1: 5.9129594\tbest: 5.9077390 (684)\ttotal: 12.9s\tremaining: 2m 50s\n",
            "800:\tlearn: 1.2305658\ttest: 1.2577687\ttest1: 5.8975596\tbest: 5.8969683 (796)\ttotal: 14.7s\tremaining: 2m 48s\n",
            "900:\tlearn: 1.0714892\ttest: 1.1008670\ttest1: 5.8919535\tbest: 5.8857231 (890)\ttotal: 16.5s\tremaining: 2m 47s\n",
            "1000:\tlearn: 0.9397537\ttest: 0.9724821\ttest1: 5.9004342\tbest: 5.8857231 (890)\ttotal: 18.4s\tremaining: 2m 45s\n",
            "1100:\tlearn: 0.8205595\ttest: 0.8567870\ttest1: 5.8930294\tbest: 5.8857231 (890)\ttotal: 20.2s\tremaining: 2m 43s\n",
            "Stopped by overfitting detector  (300 iterations wait)\n",
            "\n",
            "bestTest = 5.885723095\n",
            "bestIteration = 890\n",
            "\n",
            "Shrink model to first 891 iterations.\n",
            "err:  5.885723078656137\n",
            "0:\tlearn: 12.2024371\ttest: 12.2024371\ttest1: 12.0896121\tbest: 12.0896121 (0)\ttotal: 20.1ms\tremaining: 3m 21s\n",
            "100:\tlearn: 4.9000976\ttest: 4.9000976\ttest1: 5.7928393\tbest: 5.7910832 (97)\ttotal: 1.87s\tremaining: 3m 3s\n",
            "200:\tlearn: 3.6973686\ttest: 3.6973686\ttest1: 5.6433800\tbest: 5.6381287 (187)\ttotal: 3.7s\tremaining: 3m\n",
            "300:\tlearn: 2.8940210\ttest: 2.8956043\ttest1: 5.5625645\tbest: 5.5562937 (294)\ttotal: 5.54s\tremaining: 2m 58s\n",
            "400:\tlearn: 2.3839626\ttest: 2.3892303\ttest1: 5.4939301\tbest: 5.4915442 (399)\ttotal: 7.39s\tremaining: 2m 57s\n",
            "500:\tlearn: 1.9856724\ttest: 1.9921523\ttest1: 5.4858189\tbest: 5.4758610 (458)\ttotal: 9.24s\tremaining: 2m 55s\n",
            "600:\tlearn: 1.6612828\ttest: 1.6682003\ttest1: 5.5033246\tbest: 5.4758610 (458)\ttotal: 11.1s\tremaining: 2m 53s\n",
            "700:\tlearn: 1.4170165\ttest: 1.4245439\ttest1: 5.5101949\tbest: 5.4758610 (458)\ttotal: 13s\tremaining: 2m 52s\n",
            "Stopped by overfitting detector  (300 iterations wait)\n",
            "\n",
            "bestTest = 5.475860978\n",
            "bestIteration = 458\n",
            "\n",
            "Shrink model to first 459 iterations.\n",
            "err:  5.4758609361033335\n",
            "0:\tlearn: 12.2409904\ttest: 12.2409904\ttest1: 11.7115887\tbest: 11.7115887 (0)\ttotal: 18.2ms\tremaining: 3m 2s\n",
            "100:\tlearn: 4.9165825\ttest: 4.9165825\ttest1: 5.3093822\tbest: 5.3093822 (100)\ttotal: 1.85s\tremaining: 3m 1s\n",
            "200:\tlearn: 3.6490040\ttest: 3.6490040\ttest1: 5.2656557\tbest: 5.2477277 (165)\ttotal: 3.67s\tremaining: 2m 58s\n",
            "300:\tlearn: 2.8757931\ttest: 2.8775970\ttest1: 5.1447559\tbest: 5.1378485 (277)\ttotal: 5.51s\tremaining: 2m 57s\n",
            "400:\tlearn: 2.3447408\ttest: 2.3528317\ttest1: 5.1265296\tbest: 5.0900248 (332)\ttotal: 7.33s\tremaining: 2m 55s\n",
            "500:\tlearn: 1.9598756\ttest: 1.9716610\ttest1: 5.1224088\tbest: 5.0900248 (332)\ttotal: 9.15s\tremaining: 2m 53s\n",
            "600:\tlearn: 1.6773338\ttest: 1.6918444\ttest1: 5.0818714\tbest: 5.0750762 (583)\ttotal: 11s\tremaining: 2m 51s\n",
            "700:\tlearn: 1.4325337\ttest: 1.4479985\ttest1: 5.0790756\tbest: 5.0695343 (642)\ttotal: 12.8s\tremaining: 2m 49s\n",
            "800:\tlearn: 1.2475066\ttest: 1.2639204\ttest1: 5.0827463\tbest: 5.0695343 (642)\ttotal: 14.6s\tremaining: 2m 47s\n",
            "900:\tlearn: 1.0762001\ttest: 1.0947532\ttest1: 5.0753521\tbest: 5.0695343 (642)\ttotal: 16.4s\tremaining: 2m 45s\n",
            "Stopped by overfitting detector  (300 iterations wait)\n",
            "\n",
            "bestTest = 5.069534319\n",
            "bestIteration = 642\n",
            "\n",
            "Shrink model to first 643 iterations.\n",
            "err:  5.069534333674142\n",
            "0:\tlearn: 12.1096673\ttest: 12.1096673\ttest1: 13.7581336\tbest: 13.7581336 (0)\ttotal: 18.1ms\tremaining: 3m\n",
            "100:\tlearn: 4.7928893\ttest: 4.7965307\ttest1: 8.0977387\tbest: 8.0977387 (100)\ttotal: 1.83s\tremaining: 2m 59s\n",
            "200:\tlearn: 3.6436111\ttest: 3.6490177\ttest1: 7.8556355\tbest: 7.8556355 (200)\ttotal: 3.66s\tremaining: 2m 58s\n",
            "300:\tlearn: 2.9833250\ttest: 2.9896509\ttest1: 7.6382149\tbest: 7.6382149 (300)\ttotal: 5.44s\tremaining: 2m 55s\n",
            "400:\tlearn: 2.4652341\ttest: 2.4736203\ttest1: 7.5292941\tbest: 7.5283978 (399)\ttotal: 7.24s\tremaining: 2m 53s\n",
            "500:\tlearn: 2.0564744\ttest: 2.0680358\ttest1: 7.5238846\tbest: 7.5148031 (467)\ttotal: 9.04s\tremaining: 2m 51s\n",
            "600:\tlearn: 1.7241061\ttest: 1.7372576\ttest1: 7.4775455\tbest: 7.4764711 (585)\ttotal: 10.8s\tremaining: 2m 49s\n",
            "700:\tlearn: 1.4660517\ttest: 1.4806673\ttest1: 7.4609714\tbest: 7.4585150 (690)\ttotal: 12.7s\tremaining: 2m 47s\n",
            "800:\tlearn: 1.2691350\ttest: 1.2846500\ttest1: 7.4551363\tbest: 7.4539613 (720)\ttotal: 14.5s\tremaining: 2m 46s\n",
            "900:\tlearn: 1.0996059\ttest: 1.1157569\ttest1: 7.4591894\tbest: 7.4470151 (847)\ttotal: 16.3s\tremaining: 2m 44s\n",
            "1000:\tlearn: 0.9643321\ttest: 0.9815440\ttest1: 7.4745608\tbest: 7.4470151 (847)\ttotal: 18.1s\tremaining: 2m 42s\n",
            "1100:\tlearn: 0.8409245\ttest: 0.8591013\ttest1: 7.4790676\tbest: 7.4470151 (847)\ttotal: 19.9s\tremaining: 2m 41s\n",
            "Stopped by overfitting detector  (300 iterations wait)\n",
            "\n",
            "bestTest = 7.447015097\n",
            "bestIteration = 847\n",
            "\n",
            "Shrink model to first 848 iterations.\n",
            "err:  7.447015133256595\n",
            "0:\tlearn: 12.2458206\ttest: 12.2458206\ttest1: 11.3683312\tbest: 11.3683312 (0)\ttotal: 19.2ms\tremaining: 3m 11s\n",
            "100:\tlearn: 4.8843866\ttest: 4.8849629\ttest1: 6.0714856\tbest: 6.0714856 (100)\ttotal: 1.85s\tremaining: 3m\n",
            "200:\tlearn: 3.7758472\ttest: 3.7761552\ttest1: 5.6547999\tbest: 5.6505203 (199)\ttotal: 3.64s\tremaining: 2m 57s\n",
            "300:\tlearn: 2.9862909\ttest: 2.9861246\ttest1: 5.4390072\tbest: 5.4330378 (298)\ttotal: 5.45s\tremaining: 2m 55s\n",
            "400:\tlearn: 2.4130537\ttest: 2.4139277\ttest1: 5.3513309\tbest: 5.3481743 (399)\ttotal: 7.27s\tremaining: 2m 53s\n",
            "500:\tlearn: 2.0022051\ttest: 2.0042955\ttest1: 5.2654916\tbest: 5.2607157 (493)\ttotal: 9.11s\tremaining: 2m 52s\n",
            "600:\tlearn: 1.6838787\ttest: 1.6874134\ttest1: 5.2303067\tbest: 5.2204505 (597)\ttotal: 10.9s\tremaining: 2m 51s\n",
            "700:\tlearn: 1.4283941\ttest: 1.4326036\ttest1: 5.2346491\tbest: 5.2204505 (597)\ttotal: 12.8s\tremaining: 2m 49s\n",
            "800:\tlearn: 1.2327852\ttest: 1.2379161\ttest1: 5.2367779\tbest: 5.2204505 (597)\ttotal: 14.6s\tremaining: 2m 47s\n",
            "Stopped by overfitting detector  (300 iterations wait)\n",
            "\n",
            "bestTest = 5.220450506\n",
            "bestIteration = 597\n",
            "\n",
            "Shrink model to first 598 iterations.\n",
            "err:  5.2204504973858485\n",
            "0:\tlearn: 12.2151747\ttest: 12.2151747\ttest1: 12.1548021\tbest: 12.1548021 (0)\ttotal: 18.5ms\tremaining: 3m 5s\n",
            "100:\tlearn: 4.8696699\ttest: 4.8731316\ttest1: 6.0784734\tbest: 6.0758514 (98)\ttotal: 1.88s\tremaining: 3m 4s\n",
            "200:\tlearn: 3.7262636\ttest: 3.7380712\ttest1: 5.9041197\tbest: 5.8914944 (199)\ttotal: 3.7s\tremaining: 3m\n",
            "300:\tlearn: 2.9307521\ttest: 2.9461353\ttest1: 5.7793504\tbest: 5.7793504 (300)\ttotal: 5.53s\tremaining: 2m 58s\n",
            "400:\tlearn: 2.3691723\ttest: 2.3863216\ttest1: 5.7647254\tbest: 5.7637846 (329)\ttotal: 7.35s\tremaining: 2m 55s\n",
            "500:\tlearn: 1.9631533\ttest: 1.9812283\ttest1: 5.7423411\tbest: 5.7417757 (499)\ttotal: 9.2s\tremaining: 2m 54s\n",
            "600:\tlearn: 1.6469726\ttest: 1.6658683\ttest1: 5.7298383\tbest: 5.7237352 (588)\ttotal: 11s\tremaining: 2m 52s\n",
            "700:\tlearn: 1.4141290\ttest: 1.4336259\ttest1: 5.7254270\tbest: 5.7151484 (647)\ttotal: 12.9s\tremaining: 2m 50s\n",
            "800:\tlearn: 1.2148783\ttest: 1.2351443\ttest1: 5.7218139\tbest: 5.7126150 (771)\ttotal: 14.7s\tremaining: 2m 48s\n",
            "900:\tlearn: 1.0475728\ttest: 1.0697372\ttest1: 5.7285033\tbest: 5.7126150 (771)\ttotal: 16.5s\tremaining: 2m 46s\n",
            "1000:\tlearn: 0.9272429\ttest: 0.9503425\ttest1: 5.7319136\tbest: 5.7126150 (771)\ttotal: 18.3s\tremaining: 2m 44s\n",
            "Stopped by overfitting detector  (300 iterations wait)\n",
            "\n",
            "bestTest = 5.712614972\n",
            "bestIteration = 771\n",
            "\n",
            "Shrink model to first 772 iterations.\n",
            "err:  5.712614919103673\n",
            "0:\tlearn: 12.2623092\ttest: 12.2623092\ttest1: 11.6035182\tbest: 11.6035182 (0)\ttotal: 18.1ms\tremaining: 3m 1s\n",
            "100:\tlearn: 4.8979989\ttest: 4.8982108\ttest1: 5.3191259\tbest: 5.3191259 (100)\ttotal: 1.88s\tremaining: 3m 4s\n",
            "200:\tlearn: 3.7335996\ttest: 3.7360322\ttest1: 5.2343169\tbest: 5.2212809 (187)\ttotal: 3.71s\tremaining: 3m\n",
            "300:\tlearn: 2.9585454\ttest: 2.9636218\ttest1: 5.2232566\tbest: 5.1877284 (247)\ttotal: 5.52s\tremaining: 2m 57s\n",
            "400:\tlearn: 2.3759962\ttest: 2.3808258\ttest1: 5.2457748\tbest: 5.1877284 (247)\ttotal: 7.35s\tremaining: 2m 56s\n",
            "500:\tlearn: 1.9544565\ttest: 1.9595758\ttest1: 5.2832229\tbest: 5.1877284 (247)\ttotal: 9.15s\tremaining: 2m 53s\n",
            "Stopped by overfitting detector  (300 iterations wait)\n",
            "\n",
            "bestTest = 5.187728438\n",
            "bestIteration = 247\n",
            "\n",
            "Shrink model to first 248 iterations.\n",
            "err:  5.187728462771181\n",
            "0:\tlearn: 12.2491973\ttest: 12.2491973\ttest1: 11.7142005\tbest: 11.7142005 (0)\ttotal: 19.1ms\tremaining: 3m 10s\n",
            "100:\tlearn: 4.8780192\ttest: 4.8825825\ttest1: 6.0794524\tbest: 6.0759377 (99)\ttotal: 1.85s\tremaining: 3m 1s\n",
            "200:\tlearn: 3.6807975\ttest: 3.6856079\ttest1: 5.8480726\tbest: 5.8364595 (198)\ttotal: 3.65s\tremaining: 2m 57s\n",
            "300:\tlearn: 2.9301462\ttest: 2.9371480\ttest1: 5.8018754\tbest: 5.7948129 (297)\ttotal: 5.43s\tremaining: 2m 55s\n",
            "400:\tlearn: 2.4098833\ttest: 2.4189803\ttest1: 5.7937091\tbest: 5.7831633 (325)\ttotal: 7.23s\tremaining: 2m 53s\n",
            "500:\tlearn: 2.0227458\ttest: 2.0332046\ttest1: 5.7862546\tbest: 5.7760416 (430)\ttotal: 9.03s\tremaining: 2m 51s\n",
            "600:\tlearn: 1.7133395\ttest: 1.7248037\ttest1: 5.8047419\tbest: 5.7760416 (430)\ttotal: 10.8s\tremaining: 2m 49s\n",
            "700:\tlearn: 1.4486701\ttest: 1.4614157\ttest1: 5.8285576\tbest: 5.7760416 (430)\ttotal: 12.6s\tremaining: 2m 47s\n",
            "Stopped by overfitting detector  (300 iterations wait)\n",
            "\n",
            "bestTest = 5.776041624\n",
            "bestIteration = 430\n",
            "\n",
            "Shrink model to first 431 iterations.\n",
            "err:  5.7760416338002365\n",
            "0:\tlearn: 12.2267082\ttest: 12.2267082\ttest1: 12.0931669\tbest: 12.0931669 (0)\ttotal: 17.8ms\tremaining: 2m 57s\n",
            "100:\tlearn: 4.8452970\ttest: 4.8477235\ttest1: 5.8476212\tbest: 5.8360158 (89)\ttotal: 1.82s\tremaining: 2m 58s\n",
            "200:\tlearn: 3.6255263\ttest: 3.6315250\ttest1: 5.7165031\tbest: 5.7165031 (200)\ttotal: 3.62s\tremaining: 2m 56s\n",
            "300:\tlearn: 2.8288830\ttest: 2.8412524\ttest1: 5.7206554\tbest: 5.6910074 (231)\ttotal: 5.4s\tremaining: 2m 54s\n",
            "400:\tlearn: 2.3227611\ttest: 2.3376740\ttest1: 5.6996709\tbest: 5.6910074 (231)\ttotal: 7.19s\tremaining: 2m 52s\n",
            "500:\tlearn: 1.9361400\ttest: 1.9522087\ttest1: 5.6964285\tbest: 5.6870912 (440)\ttotal: 9s\tremaining: 2m 50s\n",
            "600:\tlearn: 1.6259251\ttest: 1.6435993\ttest1: 5.6944568\tbest: 5.6870912 (440)\ttotal: 10.8s\tremaining: 2m 48s\n",
            "700:\tlearn: 1.3799469\ttest: 1.3988543\ttest1: 5.6729998\tbest: 5.6729681 (688)\ttotal: 12.6s\tremaining: 2m 47s\n",
            "800:\tlearn: 1.1834761\ttest: 1.2058683\ttest1: 5.6732109\tbest: 5.6713660 (702)\ttotal: 14.4s\tremaining: 2m 45s\n",
            "900:\tlearn: 1.0198685\ttest: 1.0432910\ttest1: 5.6964139\tbest: 5.6688290 (807)\ttotal: 16.2s\tremaining: 2m 43s\n",
            "1000:\tlearn: 0.8815071\ttest: 0.9060460\ttest1: 5.6987299\tbest: 5.6688290 (807)\ttotal: 18.1s\tremaining: 2m 42s\n",
            "1100:\tlearn: 0.7578743\ttest: 0.7835895\ttest1: 5.7096999\tbest: 5.6688290 (807)\ttotal: 20s\tremaining: 2m 41s\n",
            "Stopped by overfitting detector  (300 iterations wait)\n",
            "\n",
            "bestTest = 5.668829025\n",
            "bestIteration = 807\n",
            "\n",
            "Shrink model to first 808 iterations.\n",
            "err:  5.668829082294338\n",
            "0:\tlearn: 12.1676131\ttest: 12.1676131\ttest1: 12.8651776\tbest: 12.8651776 (0)\ttotal: 20.5ms\tremaining: 3m 24s\n",
            "100:\tlearn: 4.8690983\ttest: 4.8714023\ttest1: 5.8742701\tbest: 5.8455881 (86)\ttotal: 1.92s\tremaining: 3m 8s\n",
            "200:\tlearn: 3.6720590\ttest: 3.6752764\ttest1: 5.7562420\tbest: 5.7372902 (189)\ttotal: 3.83s\tremaining: 3m 7s\n",
            "300:\tlearn: 2.8901525\ttest: 2.8996702\ttest1: 5.6925375\tbest: 5.6727767 (281)\ttotal: 5.75s\tremaining: 3m 5s\n",
            "400:\tlearn: 2.3640937\ttest: 2.3798871\ttest1: 5.6576688\tbest: 5.6373982 (381)\ttotal: 7.71s\tremaining: 3m 4s\n",
            "500:\tlearn: 1.9607513\ttest: 1.9793771\ttest1: 5.6826674\tbest: 5.6373982 (381)\ttotal: 9.52s\tremaining: 3m\n",
            "600:\tlearn: 1.6453577\ttest: 1.6648269\ttest1: 5.7005377\tbest: 5.6373982 (381)\ttotal: 11.3s\tremaining: 2m 57s\n",
            "Stopped by overfitting detector  (300 iterations wait)\n",
            "\n",
            "bestTest = 5.637398181\n",
            "bestIteration = 381\n",
            "\n",
            "Shrink model to first 382 iterations.\n",
            "err:  5.6373982293580855\n",
            "0:\tlearn: 12.2428436\ttest: 12.2428436\ttest1: 11.8507403\tbest: 11.8507403 (0)\ttotal: 18.2ms\tremaining: 3m 2s\n",
            "100:\tlearn: 4.8764577\ttest: 4.8767809\ttest1: 5.6285347\tbest: 5.6271021 (71)\ttotal: 1.93s\tremaining: 3m 9s\n",
            "200:\tlearn: 3.7012402\ttest: 3.7063900\ttest1: 5.5291679\tbest: 5.5217124 (196)\ttotal: 3.85s\tremaining: 3m 7s\n",
            "300:\tlearn: 2.9047746\ttest: 2.9115523\ttest1: 5.3877063\tbest: 5.3846697 (297)\ttotal: 5.78s\tremaining: 3m 6s\n",
            "400:\tlearn: 2.3600514\ttest: 2.3691868\ttest1: 5.3569050\tbest: 5.3569050 (400)\ttotal: 7.6s\tremaining: 3m 1s\n",
            "500:\tlearn: 1.9472018\ttest: 1.9575593\ttest1: 5.3485746\tbest: 5.3407501 (431)\ttotal: 9.39s\tremaining: 2m 58s\n",
            "600:\tlearn: 1.6473382\ttest: 1.6592936\ttest1: 5.3605401\tbest: 5.3407501 (431)\ttotal: 11.2s\tremaining: 2m 54s\n",
            "700:\tlearn: 1.3999798\ttest: 1.4133840\ttest1: 5.3147815\tbest: 5.3115835 (695)\ttotal: 13s\tremaining: 2m 52s\n",
            "800:\tlearn: 1.2102774\ttest: 1.2244626\ttest1: 5.3142633\tbest: 5.3053216 (759)\ttotal: 14.8s\tremaining: 2m 49s\n",
            "900:\tlearn: 1.0423647\ttest: 1.0580883\ttest1: 5.3170738\tbest: 5.3053216 (759)\ttotal: 16.6s\tremaining: 2m 47s\n",
            "1000:\tlearn: 0.9074829\ttest: 0.9249919\ttest1: 5.3129788\tbest: 5.3053216 (759)\ttotal: 18.4s\tremaining: 2m 45s\n",
            "Stopped by overfitting detector  (300 iterations wait)\n",
            "\n",
            "bestTest = 5.305321622\n",
            "bestIteration = 759\n",
            "\n",
            "Shrink model to first 760 iterations.\n",
            "err:  5.3053216640484955\n"
          ],
          "name": "stdout"
        }
      ]
    },
    {
      "cell_type": "code",
      "metadata": {
        "id": "ht_OKo0ZQgQA",
        "outputId": "c5e09499-4e63-43d6-88cb-89bb661f87e0",
        "colab": {
          "base_uri": "https://localhost:8080/",
          "height": 269
        }
      },
      "source": [
        "print(np.mean(testsplit_store))\n",
        "print('********************************')\n",
        "# making a submission file\n",
        "submission = {\"ward\": _id, 'target_pct_vunerable': np.mean(test_store, 0)}\n",
        "final_df = pd.DataFrame(data = submission)\n",
        "final_df.sample(6)"
      ],
      "execution_count": 17,
      "outputs": [
        {
          "output_type": "stream",
          "text": [
            "5.578583537280377\n",
            "********************************\n"
          ],
          "name": "stdout"
        },
        {
          "output_type": "execute_result",
          "data": {
            "text/html": [
              "<div>\n",
              "<style scoped>\n",
              "    .dataframe tbody tr th:only-of-type {\n",
              "        vertical-align: middle;\n",
              "    }\n",
              "\n",
              "    .dataframe tbody tr th {\n",
              "        vertical-align: top;\n",
              "    }\n",
              "\n",
              "    .dataframe thead th {\n",
              "        text-align: right;\n",
              "    }\n",
              "</style>\n",
              "<table border=\"1\" class=\"dataframe\">\n",
              "  <thead>\n",
              "    <tr style=\"text-align: right;\">\n",
              "      <th></th>\n",
              "      <th>ward</th>\n",
              "      <th>target_pct_vunerable</th>\n",
              "    </tr>\n",
              "  </thead>\n",
              "  <tbody>\n",
              "    <tr>\n",
              "      <th>530</th>\n",
              "      <td>HNODGSZ</td>\n",
              "      <td>23.034483</td>\n",
              "    </tr>\n",
              "    <tr>\n",
              "      <th>790</th>\n",
              "      <td>PPOUS3C</td>\n",
              "      <td>17.909118</td>\n",
              "    </tr>\n",
              "    <tr>\n",
              "      <th>965</th>\n",
              "      <td>VA2T7KX</td>\n",
              "      <td>-1.117707</td>\n",
              "    </tr>\n",
              "    <tr>\n",
              "      <th>714</th>\n",
              "      <td>NJCV4SV</td>\n",
              "      <td>6.024565</td>\n",
              "    </tr>\n",
              "    <tr>\n",
              "      <th>78</th>\n",
              "      <td>2LDKL4U</td>\n",
              "      <td>27.345245</td>\n",
              "    </tr>\n",
              "    <tr>\n",
              "      <th>925</th>\n",
              "      <td>TV0NYBT</td>\n",
              "      <td>37.880918</td>\n",
              "    </tr>\n",
              "  </tbody>\n",
              "</table>\n",
              "</div>"
            ],
            "text/plain": [
              "        ward  target_pct_vunerable\n",
              "530  HNODGSZ             23.034483\n",
              "790  PPOUS3C             17.909118\n",
              "965  VA2T7KX             -1.117707\n",
              "714  NJCV4SV              6.024565\n",
              "78   2LDKL4U             27.345245\n",
              "925  TV0NYBT             37.880918"
            ]
          },
          "metadata": {
            "tags": []
          },
          "execution_count": 17
        }
      ]
    },
    {
      "cell_type": "code",
      "metadata": {
        "id": "jl-6pi2qQlYU"
      },
      "source": [
        "# the final submission file\n",
        "final_df.to_csv('zindi.csv', index=False)"
      ],
      "execution_count": 19,
      "outputs": []
    }
  ]
}